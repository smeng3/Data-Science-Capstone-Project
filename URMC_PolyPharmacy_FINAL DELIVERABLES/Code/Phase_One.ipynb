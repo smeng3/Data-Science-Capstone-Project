{
 "cells": [
  {
   "cell_type": "code",
   "execution_count": 20,
   "metadata": {},
   "outputs": [],
   "source": [
    "import pandas as pd\n",
    "import numpy as np\n",
    "import csv\n",
    "import difflib"
   ]
  },
  {
   "cell_type": "markdown",
   "metadata": {},
   "source": [
    "### Step 1 : Read input Data"
   ]
  },
  {
   "cell_type": "code",
   "execution_count": 21,
   "metadata": {},
   "outputs": [],
   "source": [
    "# PATH TO TARGET DATA\n",
    "path_to_input_target = 'Data/GAP_Polypharmacy_Data.Students.csv'\n",
    "target_drug_column = \"drug_name\"\n",
    "target_patient_column = \"Dummy id\"\n",
    "# PATH TO LIBRARY DATA\n",
    "path_to_input_lib = \"Data/medicare_medications_data_dictionary.csv\"\n",
    "lib_drug_column = \"DRUG_NAME\"\n",
    "lib_drug_generic = \"GENERIC_NAME\"\n",
    "lib_separator = \"/\"\n"
   ]
  },
  {
   "cell_type": "code",
   "execution_count": 3,
   "metadata": {},
   "outputs": [],
   "source": [
    "\"\"\"\n",
    " read in and re-formatting target data\n",
    "\n",
    "\"\"\"\n",
    "\n",
    "dummy_id_dicts = csv.DictReader(open(path_to_input_target))\n",
    "misspelled_names = []\n",
    "patient_id =[]\n",
    "trade_rec = []\n",
    "for row in dummy_id_dicts:\n",
    "    misspelled_names.append(row[target_drug_column])\n",
    "    patient_id.append(row[target_patient_column])\n",
    "    trade_rec.append((row[target_patient_column],row[target_drug_column]))"
   ]
  },
  {
   "cell_type": "code",
   "execution_count": 4,
   "metadata": {},
   "outputs": [],
   "source": [
    "\"\"\"\n",
    " read in and re-formatting library data\n",
    "\n",
    "\"\"\"\n",
    "\n",
    "trade_vs_generic = csv.DictReader(open(path_to_input_lib))\n",
    "trade_names = []\n",
    "trade_vs_generic_dict={}\n",
    "for row in trade_vs_generic:\n",
    "    trade_names.append(row[lib_drug_column])\n",
    "    generics = row[lib_drug_generic].split(lib_separator)\n",
    "    trade_vs_generic_dict.update({row[lib_drug_column] : generics})\n",
    "def dict_to_list(dict_name):\n",
    "    return list(set([item for sublist in list(dict_name.values()) for item in sublist]))\n",
    "generics_master_list=[]\n",
    "generics_master_list.extend(dict_to_list(trade_vs_generic_dict))"
   ]
  },
  {
   "cell_type": "markdown",
   "metadata": {},
   "source": [
    "### Step 2 : Clean by Generic Name Matching"
   ]
  },
  {
   "cell_type": "code",
   "execution_count": 6,
   "metadata": {},
   "outputs": [],
   "source": [
    "from tqdm import tqdm\n",
    "def check_generic_name(misspelled_names_list, name_dic,n,cutoff):\n",
    "    name_list = []\n",
    "    tmp_selection = []\n",
    "    mark=np.array([])\n",
    "    generic_list = []\n",
    "    for i in tqdm(misspelled_names_list):\n",
    "        if i in name_dic:\n",
    "            name_list.append(i)\n",
    "            generic_list.append([i])\n",
    "            mark = np.append(mark,[\"GEN-Found\"])\n",
    "        else:\n",
    "            tmp_selection = difflib.get_close_matches(i, name_dic,n,cutoff)\n",
    "            if len(tmp_selection)>0:\n",
    "                name_list.append(tmp_selection[0])\n",
    "                generic_list.append([tmp_selection[0]])\n",
    "                mark = np.append(mark,[\"GEN-Changed\"])\n",
    "            else:\n",
    "                name_list.append(i)\n",
    "                generic_list.append([])\n",
    "                mark = np.append(mark,[\"Unknown\"])\n",
    "    return name_list, mark, generic_list"
   ]
  },
  {
   "cell_type": "code",
   "execution_count": 7,
   "metadata": {},
   "outputs": [
    {
     "name": "stderr",
     "output_type": "stream",
     "text": [
      "100%|██████████| 7667/7667 [00:37<00:00, 206.83it/s]\n"
     ]
    }
   ],
   "source": [
    "## INPUT FOR THRESHOLD\n",
    "THRESHOLD = 0.7\n",
    "\n",
    "GEN_checked_name_list,GEN_mark, generic_list= check_generic_name(misspelled_names,\\\n",
    "                                                                 generics_master_list,3,\\\n",
    "                                                                 THRESHOLD)"
   ]
  },
  {
   "cell_type": "code",
   "execution_count": 9,
   "metadata": {},
   "outputs": [
    {
     "data": {
      "text/html": [
       "<div>\n",
       "<style scoped>\n",
       "    .dataframe tbody tr th:only-of-type {\n",
       "        vertical-align: middle;\n",
       "    }\n",
       "\n",
       "    .dataframe tbody tr th {\n",
       "        vertical-align: top;\n",
       "    }\n",
       "\n",
       "    .dataframe thead th {\n",
       "        text-align: right;\n",
       "    }\n",
       "</style>\n",
       "<table border=\"1\" class=\"dataframe\">\n",
       "  <thead>\n",
       "    <tr style=\"text-align: right;\">\n",
       "      <th></th>\n",
       "      <th>Directly matching</th>\n",
       "      <th>Algorithm correction</th>\n",
       "      <th>Unknown value</th>\n",
       "    </tr>\n",
       "  </thead>\n",
       "  <tbody>\n",
       "    <tr>\n",
       "      <th>0</th>\n",
       "      <td>2703</td>\n",
       "      <td>2541</td>\n",
       "      <td>2423</td>\n",
       "    </tr>\n",
       "  </tbody>\n",
       "</table>\n",
       "</div>"
      ],
      "text/plain": [
       "   Directly matching  Algorithm correction  Unknown value\n",
       "0               2703                  2541           2423"
      ]
     },
     "execution_count": 9,
     "metadata": {},
     "output_type": "execute_result"
    }
   ],
   "source": [
    "\"\"\"\n",
    " visualization and summary of result\n",
    " \n",
    "\"\"\"\n",
    "\n",
    "df_result = pd.DataFrame(list(zip(patient_id, misspelled_names,GEN_checked_name_list,GEN_mark)),columns =['patient_id', 'misspelled_names','GEN_checked_name_list','GEN_mark'])\n",
    "\n",
    "df_changesReport = df_result.loc[df_result['GEN_mark'] == \"GEN-Changed\"]\n",
    "\n",
    "report = pd.DataFrame({\"Directly matching\": df_result.loc[df_result['GEN_mark'] == \"GEN-Found\"].shape[0],\n",
    "                       \"Algorithm correction\" : df_result.loc[df_result['GEN_mark'] == \"GEN-Changed\"].shape[0],\n",
    "                       \"Unknown value\": df_result.loc[df_result['GEN_mark'] == \"Unknown\"].shape[0]},\n",
    "                      index=[0])\n",
    "report.head(2)\n"
   ]
  },
  {
   "cell_type": "markdown",
   "metadata": {},
   "source": [
    "### Step 3 : Clean by Trade Name Matching"
   ]
  },
  {
   "cell_type": "code",
   "execution_count": 12,
   "metadata": {},
   "outputs": [],
   "source": [
    "trade_names_master=trade_vs_generic_dict\n",
    "def check_trade_name(misspelled_names_list, name_dic,n,cutoff,old_mark,old_generic_list):\n",
    "    mark=np.array([])\n",
    "    name_list = []\n",
    "    generic_list = []\n",
    "    for i in tqdm(range(len(old_mark))):\n",
    "        if old_mark[i]==\"Unknown\":\n",
    "            if misspelled_names_list[i] in list(name_dic.keys()):\n",
    "                name_list.append(misspelled_names_list[i])\n",
    "                generic_list.append(name_dic.get(misspelled_names_list[i]))\n",
    "                mark = np.append(mark,[\"Found\"])\n",
    "            else:\n",
    "                tmp_selection = difflib.get_close_matches(misspelled_names_list[i], list(name_dic.keys()),n,cutoff)\n",
    "                if len(tmp_selection)>0:\n",
    "                    name_list.append(tmp_selection[0])\n",
    "                    generic_list.append(name_dic.get(tmp_selection[0]))\n",
    "                    mark = np.append(mark,[\"Changed\"])\n",
    "                else:\n",
    "                    name_list.append(misspelled_names_list[i])\n",
    "                    generic_list.append([])\n",
    "                    mark = np.append(mark,[\"Unknown\"])\n",
    "        else:\n",
    "            name_list.append(misspelled_names_list[i])\n",
    "            generic_list.append(old_generic_list[i])\n",
    "            mark = np.append(mark,old_mark[i])\n",
    "    return name_list, mark, generic_list"
   ]
  },
  {
   "cell_type": "code",
   "execution_count": 17,
   "metadata": {},
   "outputs": [
    {
     "name": "stderr",
     "output_type": "stream",
     "text": [
      "100%|██████████| 7667/7667 [00:16<00:00, 453.18it/s]\n"
     ]
    }
   ],
   "source": [
    "## INPUT FOR THRESHOLD\n",
    "THRESHOLD = 0.7\n",
    "\n",
    "checked_name_list,mark,new_generic_list = check_trade_name(GEN_checked_name_list,\\\n",
    "                                                           trade_names_master,\\\n",
    "                                                           3,THRESHOLD,\\\n",
    "                                                           GEN_mark,\\\n",
    "                                                           generic_list)"
   ]
  },
  {
   "cell_type": "code",
   "execution_count": 19,
   "metadata": {},
   "outputs": [
    {
     "data": {
      "text/html": [
       "<div>\n",
       "<style scoped>\n",
       "    .dataframe tbody tr th:only-of-type {\n",
       "        vertical-align: middle;\n",
       "    }\n",
       "\n",
       "    .dataframe tbody tr th {\n",
       "        vertical-align: top;\n",
       "    }\n",
       "\n",
       "    .dataframe thead th {\n",
       "        text-align: right;\n",
       "    }\n",
       "</style>\n",
       "<table border=\"1\" class=\"dataframe\">\n",
       "  <thead>\n",
       "    <tr style=\"text-align: right;\">\n",
       "      <th></th>\n",
       "      <th>Total Correction Number</th>\n",
       "      <th>Directed matching</th>\n",
       "      <th>Algorithm correction</th>\n",
       "      <th>Unknown value</th>\n",
       "      <th>Warnings</th>\n",
       "    </tr>\n",
       "  </thead>\n",
       "  <tbody>\n",
       "    <tr>\n",
       "      <th>Times</th>\n",
       "      <td>6709</td>\n",
       "      <td>998</td>\n",
       "      <td>467</td>\n",
       "      <td>958</td>\n",
       "      <td>114</td>\n",
       "    </tr>\n",
       "  </tbody>\n",
       "</table>\n",
       "</div>"
      ],
      "text/plain": [
       "       Total Correction Number  Directed matching  Algorithm correction  \\\n",
       "Times                     6709                998                   467   \n",
       "\n",
       "       Unknown value  Warnings  \n",
       "Times            958       114  "
      ]
     },
     "execution_count": 19,
     "metadata": {},
     "output_type": "execute_result"
    }
   ],
   "source": [
    "\"\"\"\n",
    "    A display to show results.\n",
    "\n",
    "    Variables:\n",
    "      df_result: A dataframe of all patient ID vs corrected trade names.\n",
    "      df_changesReport: A dataframe of corrected trade names at current cutoff rate.\n",
    "      df_changesReportWarnings: A dataframe of possible mis-corrected trade names since having different first letter.\n",
    "      report: A dataframe shows of all number of each variable contains above.\n",
    "    Outputs:\n",
    "      All dataframe file can be out put as csv file by using \n",
    "      DATAFRAME_NAME.to_csv('/PATH_TO_FILE/NAME.csv')\n",
    "\"\"\"\n",
    "\n",
    "df_result = pd.DataFrame(list(zip(patient_id, misspelled_names,checked_name_list,new_generic_list,mark)), \n",
    "               columns =['patient_id', 'misspelled_names','checked_name_list',\"new_generic_list\",'mark'])\n",
    "\n",
    "df_totalCorrection = df_result.loc[df_result['mark'] != \"Unknown\"]\n",
    "df_changesReport = df_result.loc[df_result['mark'] == \"Changed\"]\n",
    "df_directedMatch = df_result.loc[df_result['mark'] == \"Found\"]\n",
    "df_unknown = df_result.loc[df_result['mark'] == \"Unknown\"]\n",
    "\n",
    "df_changesReportWarnings = df_changesReport.loc[df_changesReport['misspelled_names'].str[0] \n",
    "                                                != df_changesReport['checked_name_list'].str[0]] \n",
    "\n",
    "report = pd.DataFrame({\"Total Correction Number\": df_totalCorrection.shape[0],\n",
    "                       \"Directed matching\": df_directedMatch.shape[0],\n",
    "                       \"Algorithm correction\": df_changesReport.shape[0],\n",
    "                       \"Unknown value\":df_unknown.shape[0],\n",
    "                      \"Warnings\": df_changesReportWarnings.shape[0]},\n",
    "                      index=[\"Times\"])\n",
    "report = report[['Total Correction Number', 'Directed matching', 'Algorithm correction','Unknown value','Warnings']]\n",
    "report"
   ]
  },
  {
   "cell_type": "code",
   "execution_count": null,
   "metadata": {},
   "outputs": [],
   "source": [
    "# PATH TO OUTPUT\n",
    "path_to_output = \"\"\n",
    "df_result.to_csv(path_to_output)"
   ]
  }
 ],
 "metadata": {
  "kernelspec": {
   "display_name": "Python 3",
   "language": "python",
   "name": "python3"
  },
  "language_info": {
   "codemirror_mode": {
    "name": "ipython",
    "version": 3
   },
   "file_extension": ".py",
   "mimetype": "text/x-python",
   "name": "python",
   "nbconvert_exporter": "python",
   "pygments_lexer": "ipython3",
   "version": "3.7.3"
  }
 },
 "nbformat": 4,
 "nbformat_minor": 2
}
