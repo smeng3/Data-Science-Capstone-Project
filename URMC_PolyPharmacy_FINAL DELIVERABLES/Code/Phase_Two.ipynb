{
 "cells": [
  {
   "cell_type": "code",
   "execution_count": 1,
   "metadata": {},
   "outputs": [],
   "source": [
    "#LOAD PACKAGE\n",
    "import pandas as pd\n",
    "import numpy as np\n",
    "import warnings\n",
    "warnings.filterwarnings('ignore')\n",
    "import matplotlib.pyplot as plt\n",
    "import seaborn as sns"
   ]
  },
  {
   "cell_type": "markdown",
   "metadata": {},
   "source": [
    "# SEC.1 Load and clean data"
   ]
  },
  {
   "cell_type": "code",
   "execution_count": 2,
   "metadata": {},
   "outputs": [],
   "source": [
    "#Load Data\n",
    "dataGAP = pd.read_csv(\"GAP_baseline_20190404-Final.csv\")\n",
    "dataCOACH = pd.read_csv(\"COACH_baseline_20190404.csv\")"
   ]
  },
  {
   "cell_type": "code",
   "execution_count": 3,
   "metadata": {},
   "outputs": [
    {
     "name": "stdout",
     "output_type": "stream",
     "text": [
      "The number of common column : 77\n"
     ]
    }
   ],
   "source": [
    "# See how many common column in both data set\n",
    "commonList = []\n",
    "for each in list(dataCOACH.columns):\n",
    "    for i in list(dataGAP.columns):\n",
    "        if each == i:\n",
    "            commonList.append(i)\n",
    "print(\"The number of common column :\" , len(commonList))"
   ]
  },
  {
   "cell_type": "code",
   "execution_count": 4,
   "metadata": {},
   "outputs": [
    {
     "name": "stdout",
     "output_type": "stream",
     "text": [
      "The common columns are : Index(['Assessment', 'Grade', 'Marital', 'Live', 'LiveOther1', 'LiveOther2',\n",
      "       'Health', 'Employment', 'EmploymentOther', 'Driving', 'Age', 'Feel',\n",
      "       'ZipCode', 'Gender', 'Ethnicity', 'Race', 'Insurance', 'InsuranceOther',\n",
      "       'Income', 'Living', 'Services', 'Hospital', 'HospitalCost',\n",
      "       'NursingHome', 'NursingHomeCost', 'Visits', 'VisitsCost', 'Sx',\n",
      "       'SxCost', 'Dental', 'DentalCost', 'Meds', 'MedsCost', 'HomeCare',\n",
      "       'HomeCareCost', 'Rehab', 'RehabCost', 'Meals', 'MealsCost', 'Transport',\n",
      "       'TransportCost', 'OtherExpDesc', 'OtherExp', 'OtherExpCost', 'Help',\n",
      "       'HelpWho', 'HelpAmount', 'DelayMed', 'IncomeAvail', 'Enough', 'FH1',\n",
      "       'FH1aMonths', 'FH1aDays', 'FH1bTimesFallen', 'FH1b', 'FH1c', 'FH2',\n",
      "       'FH3', 'KPS', 'ImpairedPolypharmacy', 'ImpairedBOMC', 'ImpairedMiniCog',\n",
      "       'ImpairedWeight', 'ImpairedBMI', 'ImpairedMNA', 'ImpairedTUG',\n",
      "       'ImpairedSPPB', 'ImpairedADL', 'ImpairedIADL', 'ImpairedPH',\n",
      "       'ImpairedFalls', 'ImpairedCom', 'ImpairedGAD7', 'ImpairedGDS',\n",
      "       'ImpairedMS', 'cancertype', 'id'],\n",
      "      dtype='object')\n"
     ]
    }
   ],
   "source": [
    "# Select common column to dataCG\n",
    "dataGAP = dataGAP [['Assessment','Grade','Marital','Live','LiveOther1','LiveOther2','Health',\n",
    " 'Employment','EmploymentOther','Driving','Age','Feel','ZipCode','Gender','Ethnicity','Race',\n",
    " 'Insurance','InsuranceOther','Income','Living','Services','Hospital','HospitalCost','NursingHome',\n",
    " 'NursingHomeCost','Visits','VisitsCost','Sx','SxCost','Dental','DentalCost','Meds','MedsCost',\n",
    " 'HomeCare','HomeCareCost','Rehab','RehabCost','Meals','MealsCost','Transport','TransportCost',\n",
    " 'OtherExpDesc','OtherExp','OtherExpCost','Help','HelpWho','HelpAmount','DelayMed','IncomeAvail',\n",
    " 'Enough','FH1','FH1aMonths','FH1aDays','FH1bTimesFallen','FH1b','FH1c','FH2','FH3','KPS',\n",
    " 'ImpairedPolypharmacy','ImpairedBOMC','ImpairedMiniCog','ImpairedWeight','ImpairedBMI','ImpairedMNA',\n",
    " 'ImpairedTUG','ImpairedSPPB','ImpairedADL','ImpairedIADL','ImpairedPH','ImpairedFalls','ImpairedCom',\n",
    " 'ImpairedGAD7','ImpairedGDS','ImpairedMS','cancertype','id']]\n",
    "dataCOACH = dataCOACH[['Assessment','Grade','Marital','Live','LiveOther1','LiveOther2','Health',\n",
    " 'Employment','EmploymentOther','Driving','Age','Feel','ZipCode','Gender','Ethnicity','Race',\n",
    " 'Insurance','InsuranceOther','Income','Living','Services','Hospital','HospitalCost','NursingHome',\n",
    " 'NursingHomeCost','Visits','VisitsCost','Sx','SxCost','Dental','DentalCost','Meds','MedsCost',\n",
    " 'HomeCare','HomeCareCost','Rehab','RehabCost','Meals','MealsCost','Transport','TransportCost',\n",
    " 'OtherExpDesc','OtherExp','OtherExpCost','Help','HelpWho','HelpAmount','DelayMed','IncomeAvail',\n",
    " 'Enough','FH1','FH1aMonths','FH1aDays','FH1bTimesFallen','FH1b','FH1c','FH2','FH3','KPS',\n",
    " 'ImpairedPolypharmacy','ImpairedBOMC','ImpairedMiniCog','ImpairedWeight','ImpairedBMI','ImpairedMNA',\n",
    " 'ImpairedTUG','ImpairedSPPB','ImpairedADL','ImpairedIADL','ImpairedPH','ImpairedFalls','ImpairedCom',\n",
    " 'ImpairedGAD7','ImpairedGDS','ImpairedMS','cancertype','id']]\n",
    "dataCG = pd.concat([dataGAP,dataCOACH])\n",
    "\n",
    "# Show common column names\n",
    "\n",
    "print(\"The common columns are :\", dataCG.columns)"
   ]
  },
  {
   "cell_type": "code",
   "execution_count": 5,
   "metadata": {},
   "outputs": [
    {
     "name": "stdout",
     "output_type": "stream",
     "text": [
      "0    571\n",
      "1    187\n",
      "Name: ImpairedFalls, dtype: int64\n"
     ]
    },
    {
     "data": {
      "image/png": "[encoded data removed]",
      "text/plain": [
       "<matplotlib.figure.Figure at 0x108a49ef0>"
      ]
     },
     "metadata": {},
     "output_type": "display_data"
    }
   ],
   "source": [
    "# Show common column names and count of calsses in each class\n",
    "\n",
    "print(dataCG[\"ImpairedFalls\"].value_counts())\n",
    "dataCG[\"ImpairedFalls\"].value_counts().plot(kind='bar', title='Data Set (target)');"
   ]
  },
  {
   "cell_type": "code",
   "execution_count": 6,
   "metadata": {},
   "outputs": [
    {
     "data": {
      "text/plain": [
       "Index(['Assessment', 'Grade', 'Marital', 'Live', 'Health', 'Employment',\n",
       "       'Driving', 'Age', 'Feel', 'Gender', 'Ethnicity', 'Race', 'Insurance',\n",
       "       'Income', 'Living', 'FH1', 'FH2', 'FH3', 'KPS', 'ImpairedPolypharmacy',\n",
       "       'ImpairedBOMC', 'ImpairedMiniCog', 'ImpairedWeight', 'ImpairedBMI',\n",
       "       'ImpairedMNA', 'ImpairedTUG', 'ImpairedSPPB', 'ImpairedADL',\n",
       "       'ImpairedIADL', 'ImpairedPH', 'ImpairedFalls', 'ImpairedCom',\n",
       "       'ImpairedGAD7', 'ImpairedGDS', 'ImpairedMS', 'cancertype', 'id'],\n",
       "      dtype='object')"
      ]
     },
     "execution_count": 6,
     "metadata": {},
     "output_type": "execute_result"
    }
   ],
   "source": [
    "## feacture With less than 15 missing value\n",
    "df_fecture = dataCG.isnull().sum()\n",
    "df_fecture = df_fecture.where(df_fecture<15)\n",
    "df_fecture = df_fecture.dropna()\n",
    "fecturelist = list(df_fecture.index)\n",
    "df_fecture.index"
   ]
  },
  {
   "cell_type": "code",
   "execution_count": 7,
   "metadata": {},
   "outputs": [
    {
     "data": {
      "text/html": [
       "<div>\n",
       "<style scoped>\n",
       "    .dataframe tbody tr th:only-of-type {\n",
       "        vertical-align: middle;\n",
       "    }\n",
       "\n",
       "    .dataframe tbody tr th {\n",
       "        vertical-align: top;\n",
       "    }\n",
       "\n",
       "    .dataframe thead th {\n",
       "        text-align: right;\n",
       "    }\n",
       "</style>\n",
       "<table border=\"1\" class=\"dataframe\">\n",
       "  <thead>\n",
       "    <tr style=\"text-align: right;\">\n",
       "      <th></th>\n",
       "      <th>Grade</th>\n",
       "      <th>Marital</th>\n",
       "      <th>Health</th>\n",
       "      <th>Driving</th>\n",
       "      <th>Age</th>\n",
       "      <th>Feel</th>\n",
       "      <th>Gender</th>\n",
       "      <th>Ethnicity</th>\n",
       "      <th>Income</th>\n",
       "      <th>Living</th>\n",
       "      <th>...</th>\n",
       "      <th>ImpairedTUG</th>\n",
       "      <th>ImpairedSPPB</th>\n",
       "      <th>ImpairedADL</th>\n",
       "      <th>ImpairedIADL</th>\n",
       "      <th>ImpairedPH</th>\n",
       "      <th>ImpairedFalls</th>\n",
       "      <th>ImpairedCom</th>\n",
       "      <th>ImpairedGAD7</th>\n",
       "      <th>ImpairedGDS</th>\n",
       "      <th>ImpairedMS</th>\n",
       "    </tr>\n",
       "  </thead>\n",
       "  <tbody>\n",
       "    <tr>\n",
       "      <th>count</th>\n",
       "      <td>756.000000</td>\n",
       "      <td>756.000000</td>\n",
       "      <td>753.000000</td>\n",
       "      <td>756.000000</td>\n",
       "      <td>756.000000</td>\n",
       "      <td>746.000000</td>\n",
       "      <td>756.000000</td>\n",
       "      <td>756.000000</td>\n",
       "      <td>754.000000</td>\n",
       "      <td>755.000000</td>\n",
       "      <td>...</td>\n",
       "      <td>757.000000</td>\n",
       "      <td>758.000000</td>\n",
       "      <td>758.000000</td>\n",
       "      <td>758.000000</td>\n",
       "      <td>758.000000</td>\n",
       "      <td>758.000000</td>\n",
       "      <td>758.000000</td>\n",
       "      <td>758.000000</td>\n",
       "      <td>758.000000</td>\n",
       "      <td>758.000000</td>\n",
       "    </tr>\n",
       "    <tr>\n",
       "      <th>mean</th>\n",
       "      <td>5.309524</td>\n",
       "      <td>3.142857</td>\n",
       "      <td>3.120850</td>\n",
       "      <td>0.776455</td>\n",
       "      <td>76.763228</td>\n",
       "      <td>69.424933</td>\n",
       "      <td>1.484127</td>\n",
       "      <td>2.007937</td>\n",
       "      <td>3.343501</td>\n",
       "      <td>1.615894</td>\n",
       "      <td>...</td>\n",
       "      <td>0.393659</td>\n",
       "      <td>0.803430</td>\n",
       "      <td>0.278364</td>\n",
       "      <td>0.558047</td>\n",
       "      <td>0.755937</td>\n",
       "      <td>0.246702</td>\n",
       "      <td>0.647757</td>\n",
       "      <td>0.105541</td>\n",
       "      <td>0.234828</td>\n",
       "      <td>0.284960</td>\n",
       "    </tr>\n",
       "    <tr>\n",
       "      <th>std</th>\n",
       "      <td>2.333054</td>\n",
       "      <td>1.608163</td>\n",
       "      <td>1.035284</td>\n",
       "      <td>0.416896</td>\n",
       "      <td>5.377241</td>\n",
       "      <td>13.923487</td>\n",
       "      <td>0.500079</td>\n",
       "      <td>0.281793</td>\n",
       "      <td>1.257135</td>\n",
       "      <td>0.637686</td>\n",
       "      <td>...</td>\n",
       "      <td>0.488884</td>\n",
       "      <td>0.397667</td>\n",
       "      <td>0.448490</td>\n",
       "      <td>0.496947</td>\n",
       "      <td>0.429814</td>\n",
       "      <td>0.431376</td>\n",
       "      <td>0.477985</td>\n",
       "      <td>0.307452</td>\n",
       "      <td>0.424171</td>\n",
       "      <td>0.451694</td>\n",
       "    </tr>\n",
       "    <tr>\n",
       "      <th>min</th>\n",
       "      <td>1.000000</td>\n",
       "      <td>1.000000</td>\n",
       "      <td>1.000000</td>\n",
       "      <td>0.000000</td>\n",
       "      <td>70.000000</td>\n",
       "      <td>7.000000</td>\n",
       "      <td>1.000000</td>\n",
       "      <td>1.000000</td>\n",
       "      <td>1.000000</td>\n",
       "      <td>1.000000</td>\n",
       "      <td>...</td>\n",
       "      <td>0.000000</td>\n",
       "      <td>0.000000</td>\n",
       "      <td>0.000000</td>\n",
       "      <td>0.000000</td>\n",
       "      <td>0.000000</td>\n",
       "      <td>0.000000</td>\n",
       "      <td>0.000000</td>\n",
       "      <td>0.000000</td>\n",
       "      <td>0.000000</td>\n",
       "      <td>0.000000</td>\n",
       "    </tr>\n",
       "    <tr>\n",
       "      <th>25%</th>\n",
       "      <td>3.000000</td>\n",
       "      <td>2.000000</td>\n",
       "      <td>2.000000</td>\n",
       "      <td>1.000000</td>\n",
       "      <td>72.000000</td>\n",
       "      <td>61.250000</td>\n",
       "      <td>1.000000</td>\n",
       "      <td>2.000000</td>\n",
       "      <td>3.000000</td>\n",
       "      <td>1.000000</td>\n",
       "      <td>...</td>\n",
       "      <td>0.000000</td>\n",
       "      <td>1.000000</td>\n",
       "      <td>0.000000</td>\n",
       "      <td>0.000000</td>\n",
       "      <td>1.000000</td>\n",
       "      <td>0.000000</td>\n",
       "      <td>0.000000</td>\n",
       "      <td>0.000000</td>\n",
       "      <td>0.000000</td>\n",
       "      <td>0.000000</td>\n",
       "    </tr>\n",
       "    <tr>\n",
       "      <th>50%</th>\n",
       "      <td>6.000000</td>\n",
       "      <td>2.000000</td>\n",
       "      <td>3.000000</td>\n",
       "      <td>1.000000</td>\n",
       "      <td>76.000000</td>\n",
       "      <td>70.000000</td>\n",
       "      <td>1.000000</td>\n",
       "      <td>2.000000</td>\n",
       "      <td>3.000000</td>\n",
       "      <td>2.000000</td>\n",
       "      <td>...</td>\n",
       "      <td>0.000000</td>\n",
       "      <td>1.000000</td>\n",
       "      <td>0.000000</td>\n",
       "      <td>1.000000</td>\n",
       "      <td>1.000000</td>\n",
       "      <td>0.000000</td>\n",
       "      <td>1.000000</td>\n",
       "      <td>0.000000</td>\n",
       "      <td>0.000000</td>\n",
       "      <td>0.000000</td>\n",
       "    </tr>\n",
       "    <tr>\n",
       "      <th>75%</th>\n",
       "      <td>7.000000</td>\n",
       "      <td>5.000000</td>\n",
       "      <td>4.000000</td>\n",
       "      <td>1.000000</td>\n",
       "      <td>80.000000</td>\n",
       "      <td>76.000000</td>\n",
       "      <td>2.000000</td>\n",
       "      <td>2.000000</td>\n",
       "      <td>4.000000</td>\n",
       "      <td>2.000000</td>\n",
       "      <td>...</td>\n",
       "      <td>1.000000</td>\n",
       "      <td>1.000000</td>\n",
       "      <td>1.000000</td>\n",
       "      <td>1.000000</td>\n",
       "      <td>1.000000</td>\n",
       "      <td>0.000000</td>\n",
       "      <td>1.000000</td>\n",
       "      <td>0.000000</td>\n",
       "      <td>0.000000</td>\n",
       "      <td>1.000000</td>\n",
       "    </tr>\n",
       "    <tr>\n",
       "      <th>max</th>\n",
       "      <td>8.000000</td>\n",
       "      <td>6.000000</td>\n",
       "      <td>5.000000</td>\n",
       "      <td>1.000000</td>\n",
       "      <td>96.000000</td>\n",
       "      <td>175.000000</td>\n",
       "      <td>2.000000</td>\n",
       "      <td>9.000000</td>\n",
       "      <td>5.000000</td>\n",
       "      <td>5.000000</td>\n",
       "      <td>...</td>\n",
       "      <td>1.000000</td>\n",
       "      <td>1.000000</td>\n",
       "      <td>1.000000</td>\n",
       "      <td>1.000000</td>\n",
       "      <td>1.000000</td>\n",
       "      <td>1.000000</td>\n",
       "      <td>1.000000</td>\n",
       "      <td>1.000000</td>\n",
       "      <td>1.000000</td>\n",
       "      <td>1.000000</td>\n",
       "    </tr>\n",
       "  </tbody>\n",
       "</table>\n",
       "<p>8 rows × 30 columns</p>\n",
       "</div>"
      ],
      "text/plain": [
       "            Grade     Marital      Health     Driving         Age        Feel  \\\n",
       "count  756.000000  756.000000  753.000000  756.000000  756.000000  746.000000   \n",
       "mean     5.309524    3.142857    3.120850    0.776455   76.763228   69.424933   \n",
       "std      2.333054    1.608163    1.035284    0.416896    5.377241   13.923487   \n",
       "min      1.000000    1.000000    1.000000    0.000000   70.000000    7.000000   \n",
       "25%      3.000000    2.000000    2.000000    1.000000   72.000000   61.250000   \n",
       "50%      6.000000    2.000000    3.000000    1.000000   76.000000   70.000000   \n",
       "75%      7.000000    5.000000    4.000000    1.000000   80.000000   76.000000   \n",
       "max      8.000000    6.000000    5.000000    1.000000   96.000000  175.000000   \n",
       "\n",
       "           Gender   Ethnicity      Income      Living     ...      \\\n",
       "count  756.000000  756.000000  754.000000  755.000000     ...       \n",
       "mean     1.484127    2.007937    3.343501    1.615894     ...       \n",
       "std      0.500079    0.281793    1.257135    0.637686     ...       \n",
       "min      1.000000    1.000000    1.000000    1.000000     ...       \n",
       "25%      1.000000    2.000000    3.000000    1.000000     ...       \n",
       "50%      1.000000    2.000000    3.000000    2.000000     ...       \n",
       "75%      2.000000    2.000000    4.000000    2.000000     ...       \n",
       "max      2.000000    9.000000    5.000000    5.000000     ...       \n",
       "\n",
       "       ImpairedTUG  ImpairedSPPB  ImpairedADL  ImpairedIADL  ImpairedPH  \\\n",
       "count   757.000000    758.000000   758.000000    758.000000  758.000000   \n",
       "mean      0.393659      0.803430     0.278364      0.558047    0.755937   \n",
       "std       0.488884      0.397667     0.448490      0.496947    0.429814   \n",
       "min       0.000000      0.000000     0.000000      0.000000    0.000000   \n",
       "25%       0.000000      1.000000     0.000000      0.000000    1.000000   \n",
       "50%       0.000000      1.000000     0.000000      1.000000    1.000000   \n",
       "75%       1.000000      1.000000     1.000000      1.000000    1.000000   \n",
       "max       1.000000      1.000000     1.000000      1.000000    1.000000   \n",
       "\n",
       "       ImpairedFalls  ImpairedCom  ImpairedGAD7  ImpairedGDS  ImpairedMS  \n",
       "count     758.000000   758.000000    758.000000   758.000000  758.000000  \n",
       "mean        0.246702     0.647757      0.105541     0.234828    0.284960  \n",
       "std         0.431376     0.477985      0.307452     0.424171    0.451694  \n",
       "min         0.000000     0.000000      0.000000     0.000000    0.000000  \n",
       "25%         0.000000     0.000000      0.000000     0.000000    0.000000  \n",
       "50%         0.000000     1.000000      0.000000     0.000000    0.000000  \n",
       "75%         0.000000     1.000000      0.000000     0.000000    1.000000  \n",
       "max         1.000000     1.000000      1.000000     1.000000    1.000000  \n",
       "\n",
       "[8 rows x 30 columns]"
      ]
     },
     "execution_count": 7,
     "metadata": {},
     "output_type": "execute_result"
    }
   ],
   "source": [
    "## fecture with less than 15 missing value (without id)\n",
    "\n",
    "dataCG = dataCG[['Grade', 'Marital', 'Live', 'Health', 'Employment',\n",
    "       'Driving', 'Age', 'Feel', 'Gender', 'Ethnicity', 'Race', 'Insurance',\n",
    "       'Income', 'Living', 'FH1', 'FH2', 'FH3', 'KPS', 'ImpairedPolypharmacy',\n",
    "       'ImpairedBOMC', 'ImpairedMiniCog', 'ImpairedWeight', 'ImpairedBMI',\n",
    "       'ImpairedMNA', 'ImpairedTUG', 'ImpairedSPPB', 'ImpairedADL',\n",
    "       'ImpairedIADL', 'ImpairedPH', 'ImpairedFalls', 'ImpairedCom',\n",
    "       'ImpairedGAD7', 'ImpairedGDS', 'ImpairedMS', 'cancertype']]\n",
    "dataCG.describe()"
   ]
  },
  {
   "cell_type": "code",
   "execution_count": 8,
   "metadata": {},
   "outputs": [
    {
     "data": {
      "image/png": "[encoded data removed]",
      "text/plain": [
       "<matplotlib.figure.Figure at 0x1a0fa49518>"
      ]
     },
     "metadata": {},
     "output_type": "display_data"
    }
   ],
   "source": [
    "## The data overview on geneder and age\n",
    "\n",
    "import seaborn as sns\n",
    "sns.set(style=\"whitegrid\")\n",
    "plt.figure(figsize=(10, 5))\n",
    "b = dataCG[[\"Age\",\"Gender\"]]\n",
    "ax = sns.boxplot(x=\"Gender\", y=\"Age\",data=b)"
   ]
  },
  {
   "cell_type": "code",
   "execution_count": 9,
   "metadata": {},
   "outputs": [
    {
     "data": {
      "text/plain": [
       "Index(['Grade', 'Marital', 'Health', 'Driving', 'Age', 'Feel', 'Gender',\n",
       "       'Ethnicity', 'Income', 'Living', 'FH1', 'FH2', 'FH3', 'KPS',\n",
       "       'ImpairedPolypharmacy', 'ImpairedBOMC', 'ImpairedMiniCog',\n",
       "       'ImpairedWeight', 'ImpairedBMI', 'ImpairedMNA', 'ImpairedTUG',\n",
       "       'ImpairedSPPB', 'ImpairedADL', 'ImpairedIADL', 'ImpairedPH',\n",
       "       'ImpairedFalls', 'ImpairedCom', 'ImpairedGAD7', 'ImpairedGDS',\n",
       "       'ImpairedMS'],\n",
       "      dtype='object')"
      ]
     },
     "execution_count": 9,
     "metadata": {},
     "output_type": "execute_result"
    }
   ],
   "source": [
    "dataCG._get_numeric_data().columns ##Feacture with numeric value"
   ]
  },
  {
   "cell_type": "code",
   "execution_count": 10,
   "metadata": {},
   "outputs": [
    {
     "data": {
      "text/plain": [
       "['Race', 'Live', 'Insurance', 'Employment', 'cancertype']"
      ]
     },
     "execution_count": 10,
     "metadata": {},
     "output_type": "execute_result"
    }
   ],
   "source": [
    "list(set(dataCG.columns) - set(dataCG._get_numeric_data().columns)) ##Feacture not in numeric value"
   ]
  },
  {
   "cell_type": "code",
   "execution_count": 11,
   "metadata": {},
   "outputs": [
    {
     "data": {
      "image/png": "[encoded data removed]",
      "text/plain": [
       "<matplotlib.figure.Figure at 0x1a18b09908>"
      ]
     },
     "metadata": {},
     "output_type": "display_data"
    }
   ],
   "source": [
    "# Bar chart for Insurance before group by map\n",
    "import seaborn as sns\n",
    "import matplotlib.pyplot as plt\n",
    "Insurance = dataCG[\"Insurance\"].value_counts()\n",
    "sns.set(style=\"darkgrid\")\n",
    "plt.figure(figsize=(10, 5))\n",
    "\n",
    "sns.barplot(Insurance.index, Insurance.values, alpha=0.9)\n",
    "plt.title('Frequency Distribution of Insurance')\n",
    "plt.ylabel('Number of Occurrences', fontsize=12)\n",
    "plt.xlabel('Categoric', fontsize=10)\n",
    "plt.show()"
   ]
  },
  {
   "cell_type": "code",
   "execution_count": 12,
   "metadata": {},
   "outputs": [],
   "source": [
    "# Reference for mapping \"1  2\" as 1 in new column , other will be fill with 0\n",
    "Insurance_replace_map = {\"1  2\": 1, \"1  99\": 2, '1': 3, \"1  4\": 4,\"1 99\": 5} #other : 0\n",
    "showOff = dataCG['Insurance'].map(Insurance_replace_map).fillna(0)"
   ]
  },
  {
   "cell_type": "code",
   "execution_count": 13,
   "metadata": {},
   "outputs": [
    {
     "data": {
      "image/png": "[encoded data removed]",
      "text/plain": [
       "<matplotlib.figure.Figure at 0x1a18afe2b0>"
      ]
     },
     "metadata": {},
     "output_type": "display_data"
    }
   ],
   "source": [
    "import seaborn as sns\n",
    "import matplotlib.pyplot as plt\n",
    "\n",
    "Insurance = showOff.value_counts()\n",
    "plt.figure(figsize=(10, 5))\n",
    "\n",
    "sns.set(style=\"darkgrid\")\n",
    "sns.barplot(Insurance.index, Insurance.values, alpha=0.9)\n",
    "plt.title('Frequency Distribution of Insurance')\n",
    "plt.ylabel('Number of Occurrences', fontsize=12)\n",
    "plt.xlabel('Categoric', fontsize=10,rotation=90)\n",
    "plt.show()"
   ]
  },
  {
   "cell_type": "code",
   "execution_count": 14,
   "metadata": {},
   "outputs": [],
   "source": [
    "# cut categrocial data into classes\n",
    "dataCG[\"Age\"] = pd.cut(dataCG[\"Age\"], range(69, 100, 5))\n",
    "dataCG[\"Feel\"] = pd.cut(dataCG[\"Feel\"],range(0,180,30))\n",
    "dataCG[\"KPS\"] = pd.cut(dataCG[\"KPS\"],range(19,100,20))"
   ]
  },
  {
   "cell_type": "code",
   "execution_count": 15,
   "metadata": {},
   "outputs": [],
   "source": [
    "## All other the mapping reference\n",
    "Insurance_replace_map = {\"1  2\": 1, \"1  99\": 2, '1': 3, \"1  4\": 4,\"1 99\": 5} #other : 0\n",
    "Live_replace_map = {\"1\": 1, \"3\": 2, '1  5': 3, \"992\": 4,\"991\": 5} #other : 0\n",
    "cancertype_replace_map = {\"GI\":1,\"Lung\":2,\"GU\":3,\"Breast\":4,\"Lymphoma\":5,\"Other\":6,\"Gyne\":7}\n",
    "race_replace_map = {\"1\":1,\"2\":2,'4':3}\n",
    "\n",
    "## Numerical value to categorical value mapping\n",
    "age_replace_map = {\"range(69, 74]\":1,\"(74, 79]\":2,\"(79, 84]\":3,\"(84, 89]\":4,\"(89, 94]\":5,\"(94, 99]\":6}"
   ]
  },
  {
   "cell_type": "code",
   "execution_count": 16,
   "metadata": {},
   "outputs": [],
   "source": [
    "# a new data frame will remove Employment\n",
    "dataCG_cleaned = dataCG.drop(['Employment','FH1'], axis=1)\n",
    "\n",
    "# preforme all the mapping\n",
    "dataCG_cleaned[\"Race\"] = dataCG['Race'].map(race_replace_map).fillna(0)\n",
    "dataCG_cleaned[\"cancertype\"] = dataCG['cancertype'].map(cancertype_replace_map) ## not fillnan 2 missing and other is option\n",
    "dataCG_cleaned[\"Insurance\"] = dataCG['Insurance'].map(Insurance_replace_map).fillna(0)\n",
    "dataCG_cleaned[\"Live\"] = dataCG['Live'].map(Live_replace_map).fillna(0)\n",
    "\n",
    "dataCG_cleaned[\"Age\"] = dataCG['Age'].cat.codes\n",
    "dataCG_cleaned[\"Feel\"] = dataCG['Feel'].cat.codes\n",
    "dataCG_cleaned[\"KPS\"] = dataCG['KPS'].cat.codes\n"
   ]
  },
  {
   "cell_type": "code",
   "execution_count": 17,
   "metadata": {},
   "outputs": [
    {
     "data": {
      "text/plain": [
       "Health    5.0\n",
       "Income    4.0\n",
       "Living    3.0\n",
       "FH2       6.0\n",
       "FH3       4.0\n",
       "dtype: float64"
      ]
     },
     "execution_count": 17,
     "metadata": {},
     "output_type": "execute_result"
    }
   ],
   "source": [
    "#Show value with more than 2 missing and use mean or median to subsitude\n",
    "dataCG_cleaned.isnull().sum().where(dataCG_cleaned.isnull().sum()>2).dropna()"
   ]
  },
  {
   "cell_type": "code",
   "execution_count": 18,
   "metadata": {},
   "outputs": [],
   "source": [
    "# Fill up nan value with median and mean\n",
    "dataCG_cleaned[\"Health\"] = dataCG_cleaned[\"Health\"].fillna(dataCG_cleaned[\"Health\"].median())\n",
    "dataCG_cleaned[\"Feel\"] = dataCG_cleaned[\"Feel\"].fillna(dataCG_cleaned[\"Feel\"].mean())\n",
    "dataCG_cleaned[\"Income\"] = dataCG_cleaned[\"Income\"].fillna(dataCG_cleaned[\"Income\"].median())\n",
    "dataCG_cleaned[\"Living\"] = dataCG_cleaned[\"Living\"].fillna(dataCG_cleaned[\"Living\"].median())\n",
    "dataCG_cleaned[\"FH2\"] = dataCG_cleaned[\"FH2\"].fillna(dataCG_cleaned[\"FH2\"].median())\n",
    "dataCG_cleaned[\"FH3\"] = dataCG_cleaned[\"FH3\"].fillna(dataCG_cleaned[\"FH3\"].median())"
   ]
  },
  {
   "cell_type": "code",
   "execution_count": 19,
   "metadata": {},
   "outputs": [],
   "source": [
    "# Final Dropping Nan for less than 2 missing\n",
    "dataCG_cleaned.replace([\"NaN\",'', 'NaT'], np.nan, inplace = True)\n",
    "dataCG_cleaned = dataCG_cleaned.dropna()"
   ]
  },
  {
   "cell_type": "markdown",
   "metadata": {},
   "source": [
    "# SEC.2 Feacture Selection"
   ]
  },
  {
   "cell_type": "code",
   "execution_count": 20,
   "metadata": {},
   "outputs": [],
   "source": [
    "#LOAD PACKAGE\n",
    "\n",
    "from sklearn.model_selection import train_test_split  \n",
    "from sklearn.feature_selection import RFECV\n",
    "from sklearn.ensemble import RandomForestClassifier"
   ]
  },
  {
   "cell_type": "code",
   "execution_count": 21,
   "metadata": {},
   "outputs": [],
   "source": [
    "# Train and test split for feacture selection\n",
    "index = list(dataCG_cleaned.columns)\n",
    "index.remove('ImpairedFalls')\n",
    "\n",
    "X = dataCG_cleaned[index].copy()\n",
    "y = dataCG_cleaned[[\"ImpairedFalls\"]].copy()\n",
    "X_train, X_test, y_train, y_test = train_test_split(X, y, test_size = 0.2,random_state=42)  "
   ]
  },
  {
   "cell_type": "code",
   "execution_count": 22,
   "metadata": {},
   "outputs": [
    {
     "name": "stdout",
     "output_type": "stream",
     "text": [
      "Optimal number of features : 23\n",
      "Best features : Index(['Grade', 'Marital', 'Live', 'Health', 'Driving', 'Age', 'Feel',\n",
      "       'Gender', 'Race', 'Insurance', 'Income', 'Living', 'FH2', 'FH3', 'KPS',\n",
      "       'ImpairedMiniCog', 'ImpairedMNA', 'ImpairedTUG', 'ImpairedADL',\n",
      "       'ImpairedIADL', 'ImpairedCom', 'ImpairedGDS', 'cancertype'],\n",
      "      dtype='object')\n"
     ]
    }
   ],
   "source": [
    "# The \"accuracay\" scoring is proportional to the number of correct classifications\n",
    "clf_rf_4 = RandomForestClassifier() \n",
    "rfecv = RFECV(estimator=clf_rf_4, step=1, cv=5,scoring='accuracy')   #5-fold cross-validation\n",
    "rfecv = rfecv.fit(X_train, y_train)\n",
    "\n",
    "print('Optimal number of features :', rfecv.n_features_)\n",
    "print('Best features :', X_train.columns[rfecv.support_])"
   ]
  },
  {
   "cell_type": "code",
   "execution_count": 23,
   "metadata": {},
   "outputs": [
    {
     "data": {
      "image/png": "[encoded data removed]",
      "text/plain": [
       "<matplotlib.figure.Figure at 0x1a1901d438>"
      ]
     },
     "metadata": {},
     "output_type": "display_data"
    }
   ],
   "source": [
    "# Plot number of features VS. cross-validation scores\n",
    "plt.figure()\n",
    "plt.xlabel(\"Number of features selected\")\n",
    "plt.ylabel(\"Cross validation score of number of selected features\")\n",
    "plt.plot(range(1, len(rfecv.grid_scores_) + 1), rfecv.grid_scores_)\n",
    "plt.show()"
   ]
  },
  {
   "cell_type": "code",
   "execution_count": 24,
   "metadata": {},
   "outputs": [
    {
     "name": "stdout",
     "output_type": "stream",
     "text": [
      "Feature ranking:\n",
      "1. feature 0 (0.079251)\n",
      "2. feature 10 (0.078498)\n",
      "3. feature 13 (0.067178)\n",
      "4. feature 11 (0.060162)\n",
      "5. feature 5 (0.059658)\n",
      "6. feature 31 (0.059019)\n",
      "7. feature 3 (0.056181)\n",
      "8. feature 12 (0.044314)\n",
      "9. feature 1 (0.036377)\n",
      "10. feature 15 (0.031528)\n",
      "11. feature 2 (0.031037)\n",
      "12. feature 14 (0.029688)\n",
      "13. feature 7 (0.026884)\n",
      "14. feature 6 (0.025765)\n",
      "15. feature 21 (0.025026)\n",
      "16. feature 22 (0.024782)\n",
      "17. feature 25 (0.024202)\n",
      "18. feature 18 (0.022417)\n",
      "19. feature 24 (0.022303)\n",
      "20. feature 27 (0.021311)\n",
      "21. feature 23 (0.021282)\n",
      "22. feature 4 (0.019568)\n",
      "23. feature 30 (0.019381)\n",
      "24. feature 29 (0.019006)\n",
      "25. feature 9 (0.017266)\n",
      "26. feature 16 (0.015362)\n",
      "27. feature 28 (0.014671)\n",
      "28. feature 20 (0.014020)\n",
      "29. feature 19 (0.012869)\n",
      "30. feature 26 (0.012684)\n",
      "31. feature 8 (0.005482)\n",
      "32. feature 17 (0.002828)\n",
      "Index(['Grade', 'Insurance', 'FH2', 'Income', 'Age', 'cancertype', 'Health',\n",
      "       'Living', 'Marital', 'KPS', 'Live', 'FH3', 'Gender', 'Feel',\n",
      "       'ImpairedMNA', 'ImpairedTUG', 'ImpairedIADL', 'ImpairedMiniCog',\n",
      "       'ImpairedADL', 'ImpairedCom', 'ImpairedSPPB', 'Driving', 'ImpairedMS',\n",
      "       'ImpairedGDS', 'Race', 'ImpairedPolypharmacy', 'ImpairedGAD7',\n",
      "       'ImpairedBMI', 'ImpairedWeight', 'ImpairedPH', 'Ethnicity',\n",
      "       'ImpairedBOMC'],\n",
      "      dtype='object')\n"
     ]
    },
    {
     "data": {
      "image/png": "[encoded data removed]",
      "text/plain": [
       "<matplotlib.figure.Figure at 0x1a18d0a588>"
      ]
     },
     "metadata": {},
     "output_type": "display_data"
    }
   ],
   "source": [
    "clf_rf_5 = RandomForestClassifier()      \n",
    "clr_rf_5 = clf_rf_5.fit(X,y)\n",
    "importances = clr_rf_5.feature_importances_\n",
    "std = np.std([tree.feature_importances_ for tree in clf_rf_5.estimators_],\n",
    "             axis=0)\n",
    "indices = np.argsort(importances)[::-1]\n",
    "\n",
    "# Print the feature ranking\n",
    "print(\"Feature ranking:\")\n",
    "for f in range(X_train.shape[1]):\n",
    "    print(\"%d. feature %d (%f)\" % (f + 1, indices[f], importances[indices[f]]))\n",
    "\n",
    "plt.figure(1, figsize=(10, 10))\n",
    "plt.title(\"Feature importances\")\n",
    "plt.bar(range(X_train.shape[1]), importances[indices],\n",
    "       color=\"g\", yerr=std[indices], align=\"center\")\n",
    "plt.xticks(range(X_train.shape[1]), X_train.columns[indices],rotation=90)\n",
    "plt.xlim([-1, X_train.shape[1]])\n",
    "# plt.show()\n",
    "print(X_train.columns[indices])\n",
    "feacturList = list(X_train.columns[indices])\n"
   ]
  },
  {
   "cell_type": "code",
   "execution_count": 25,
   "metadata": {},
   "outputs": [],
   "source": [
    "# put Selected feacture for modeling\n",
    "feactureSelected = feacturList[:]\n",
    "feactureSelected =['Insurance', 'Income', 'cancertype', 'Health', 'Grade', 'Age', 'FH2',\n",
    "       'Live', 'KPS', 'Living', 'Driving', 'Feel', 'Marital', 'ImpairedMNA',\n",
    "       'ImpairedMiniCog', 'ImpairedIADL', 'ImpairedGDS', 'ImpairedCom']"
   ]
  },
  {
   "cell_type": "markdown",
   "metadata": {},
   "source": [
    "# SEC.3 Model development"
   ]
  },
  {
   "cell_type": "code",
   "execution_count": 26,
   "metadata": {},
   "outputs": [],
   "source": [
    "#LOAD PACKAGE\n",
    "\n",
    "from imblearn.under_sampling import InstanceHardnessThreshold\n",
    "from sklearn.linear_model import LogisticRegression\n",
    "from sklearn.ensemble import RandomForestClassifier\n",
    "from sklearn.neural_network import MLPClassifier\n",
    "\n",
    "from sklearn.metrics import accuracy_score\n",
    "from sklearn.metrics import classification_report, confusion_matrix  \n"
   ]
  },
  {
   "cell_type": "code",
   "execution_count": null,
   "metadata": {},
   "outputs": [],
   "source": []
  },
  {
   "cell_type": "code",
   "execution_count": 27,
   "metadata": {},
   "outputs": [],
   "source": [
    "X1 = X[feactureSelected].copy()\n",
    "\n",
    "X_train, X_test, y_train, y_test = train_test_split(X1, y, test_size = 0.2)  \n",
    "X_train, y_train = InstanceHardnessThreshold().fit_sample(X_train, y_train)"
   ]
  },
  {
   "cell_type": "code",
   "execution_count": 28,
   "metadata": {},
   "outputs": [],
   "source": [
    "# Logistic Regression"
   ]
  },
  {
   "cell_type": "code",
   "execution_count": 29,
   "metadata": {
    "scrolled": false
   },
   "outputs": [
    {
     "name": "stdout",
     "output_type": "stream",
     "text": [
      "[[52 65]\n",
      " [14 20]]\n",
      "\n",
      "\n",
      "             precision    recall  f1-score   support\n",
      "\n",
      "          0       0.79      0.44      0.57       117\n",
      "          1       0.24      0.59      0.34        34\n",
      "\n",
      "avg / total       0.66      0.48      0.52       151\n",
      "\n",
      "Accuracy: 47.68%\n"
     ]
    },
    {
     "data": {
      "image/png": "[encoded data removed]",
      "text/plain": [
       "<matplotlib.figure.Figure at 0x1a19b444e0>"
      ]
     },
     "metadata": {},
     "output_type": "display_data"
    }
   ],
   "source": [
    "log = LogisticRegression()\n",
    "log.fit(X_train, y_train)\n",
    "y_pred = log.predict(X_test)\n",
    "\n",
    "cm = confusion_matrix(y_test,y_pred)\n",
    "print(cm)\n",
    "print(\"\\n\")\n",
    "print(classification_report(y_test,y_pred))\n",
    "df_cm = pd.DataFrame(cm, range(2),range(2))\n",
    "sns.set(font_scale=1.4)\n",
    "# plt.figure(figsize=(10, 5))\n",
    "\n",
    "sns.heatmap(df_cm, annot=True,fmt=\"d\")\n",
    "\n",
    "accuracy = accuracy_score(y_test, y_pred)\n",
    "print(\"Accuracy: %.2f%%\" % (accuracy * 100.0))"
   ]
  },
  {
   "cell_type": "code",
   "execution_count": 30,
   "metadata": {},
   "outputs": [
    {
     "name": "stdout",
     "output_type": "stream",
     "text": [
      "[[49 68]\n",
      " [10 24]]\n",
      "\n",
      "\n",
      "             precision    recall  f1-score   support\n",
      "\n",
      "          0       0.83      0.42      0.56       117\n",
      "          1       0.26      0.71      0.38        34\n",
      "\n",
      "avg / total       0.70      0.48      0.52       151\n",
      "\n"
     ]
    },
    {
     "data": {
      "text/plain": [
       "<matplotlib.axes._subplots.AxesSubplot at 0x1a19be4c88>"
      ]
     },
     "execution_count": 30,
     "metadata": {},
     "output_type": "execute_result"
    },
    {
     "data": {
      "image/png": "[encoded data removed]",
      "text/plain": [
       "<matplotlib.figure.Figure at 0x1a19b2ff98>"
      ]
     },
     "metadata": {},
     "output_type": "display_data"
    }
   ],
   "source": [
    "# Random Forest\n",
    "clf = RandomForestClassifier(n_estimators=100, random_state=0)\n",
    "clf.fit(X_train,y_train)\n",
    "y_pred2 = clf.predict(X_test)\n",
    "cm = confusion_matrix(y_test,y_pred2)\n",
    "print(cm)\n",
    "print(\"\\n\")\n",
    "print(classification_report(y_test,y_pred2))\n",
    "df_cm = pd.DataFrame(cm, range(2),range(2))\n",
    "sns.set(font_scale=1.4)\n",
    "sns.heatmap(df_cm, annot=True,fmt=\"d\")"
   ]
  },
  {
   "cell_type": "code",
   "execution_count": 31,
   "metadata": {},
   "outputs": [
    {
     "name": "stdout",
     "output_type": "stream",
     "text": [
      "[[117   0]\n",
      " [ 34   0]]\n",
      "\n",
      "\n",
      "             precision    recall  f1-score   support\n",
      "\n",
      "          0       0.77      1.00      0.87       117\n",
      "          1       0.00      0.00      0.00        34\n",
      "\n",
      "avg / total       0.60      0.77      0.68       151\n",
      "\n"
     ]
    },
    {
     "data": {
      "text/plain": [
       "<matplotlib.axes._subplots.AxesSubplot at 0x1a19b447f0>"
      ]
     },
     "execution_count": 31,
     "metadata": {},
     "output_type": "execute_result"
    },
    {
     "data": {
      "image/png": "[encoded data removed]",
      "text/plain": [
       "<matplotlib.figure.Figure at 0x1a19b5d780>"
      ]
     },
     "metadata": {},
     "output_type": "display_data"
    }
   ],
   "source": [
    "# MLP Classifier\n",
    "clf = MLPClassifier(solver='lbfgs', alpha=1e-5,\n",
    "                    hidden_layer_sizes=(5, 2), random_state=1)\n",
    "clf = clf.fit(X_train, y_train)\n",
    "y_pred2 = clf.predict(X_test)\n",
    "cm = confusion_matrix(y_test,y_pred2)\n",
    "print(cm)\n",
    "print(\"\\n\")\n",
    "print(classification_report(y_test,y_pred2))\n",
    "df_cm = pd.DataFrame(cm, range(2),range(2))\n",
    "sns.set(font_scale=1.4)\n",
    "sns.heatmap(df_cm, annot=True,fmt=\"d\")\n"
   ]
  },
  {
   "cell_type": "markdown",
   "metadata": {},
   "source": [
    "# SEC.4 100 times testing"
   ]
  },
  {
   "cell_type": "code",
   "execution_count": 41,
   "metadata": {},
   "outputs": [],
   "source": [
    "from sklearn.metrics import recall_score\n",
    "\n",
    "\n",
    "# This cell will run the model for 100 times to get average recall accuracy ratio\n",
    "logic_regression_recall = []\n",
    "RandomForestClassifier_recall = []\n",
    "MLPClassifier_recall = []\n",
    "\n",
    "for i in range(100):\n",
    "    \n",
    "    X1 = X[feactureSelected].copy()\n",
    "    X_train, X_test, y_train, y_test = train_test_split(X1, y, test_size = 0.2)  \n",
    "    X_train, y_train = InstanceHardnessThreshold().fit_sample(X_train, y_train)\n",
    "    \n",
    "    log = LogisticRegression()\n",
    "    log.fit(X_train, y_train)\n",
    "    y_pred1 = log.predict(X_test)\n",
    "    \n",
    "    clf = RandomForestClassifier(n_estimators=100, random_state=0)\n",
    "    clf.fit(X_train,y_train)\n",
    "    \n",
    "    y_pred2 = clf.predict(X_test)\n",
    "    \n",
    "    mlp = MLPClassifier(solver='lbfgs', alpha=1e-5,\n",
    "                    hidden_layer_sizes=(5, 2), random_state=1)\n",
    "    mlp = mlp.fit(X_train, y_train)\n",
    "    y_pred3 = mlp.predict(X_test)\n",
    "    \n",
    "    \n",
    "    logic_regression_recall.append(recall_score(y_test, y_pred1))\n",
    "    RandomForestClassifier_recall.append(recall_score(y_test, y_pred2))\n",
    "    MLPClassifier_recall.append(recall_score(y_test,y_pred3))"
   ]
  },
  {
   "cell_type": "code",
   "execution_count": 42,
   "metadata": {},
   "outputs": [
    {
     "data": {
      "text/html": [
       "<div>\n",
       "<style scoped>\n",
       "    .dataframe tbody tr th:only-of-type {\n",
       "        vertical-align: middle;\n",
       "    }\n",
       "\n",
       "    .dataframe tbody tr th {\n",
       "        vertical-align: top;\n",
       "    }\n",
       "\n",
       "    .dataframe thead th {\n",
       "        text-align: right;\n",
       "    }\n",
       "</style>\n",
       "<table border=\"1\" class=\"dataframe\">\n",
       "  <thead>\n",
       "    <tr style=\"text-align: right;\">\n",
       "      <th></th>\n",
       "      <th>logic</th>\n",
       "      <th>mlp</th>\n",
       "      <th>randomforest</th>\n",
       "    </tr>\n",
       "  </thead>\n",
       "  <tbody>\n",
       "    <tr>\n",
       "      <th>count</th>\n",
       "      <td>100.000000</td>\n",
       "      <td>100.000000</td>\n",
       "      <td>100.000000</td>\n",
       "    </tr>\n",
       "    <tr>\n",
       "      <th>mean</th>\n",
       "      <td>0.693209</td>\n",
       "      <td>0.629363</td>\n",
       "      <td>0.701757</td>\n",
       "    </tr>\n",
       "    <tr>\n",
       "      <th>std</th>\n",
       "      <td>0.130366</td>\n",
       "      <td>0.195219</td>\n",
       "      <td>0.147697</td>\n",
       "    </tr>\n",
       "    <tr>\n",
       "      <th>min</th>\n",
       "      <td>0.437500</td>\n",
       "      <td>0.000000</td>\n",
       "      <td>0.382353</td>\n",
       "    </tr>\n",
       "    <tr>\n",
       "      <th>25%</th>\n",
       "      <td>0.594595</td>\n",
       "      <td>0.560267</td>\n",
       "      <td>0.603659</td>\n",
       "    </tr>\n",
       "    <tr>\n",
       "      <th>50%</th>\n",
       "      <td>0.679699</td>\n",
       "      <td>0.666667</td>\n",
       "      <td>0.689327</td>\n",
       "    </tr>\n",
       "    <tr>\n",
       "      <th>75%</th>\n",
       "      <td>0.794872</td>\n",
       "      <td>0.755856</td>\n",
       "      <td>0.827934</td>\n",
       "    </tr>\n",
       "    <tr>\n",
       "      <th>max</th>\n",
       "      <td>0.942857</td>\n",
       "      <td>1.000000</td>\n",
       "      <td>0.974359</td>\n",
       "    </tr>\n",
       "  </tbody>\n",
       "</table>\n",
       "</div>"
      ],
      "text/plain": [
       "            logic         mlp  randomforest\n",
       "count  100.000000  100.000000    100.000000\n",
       "mean     0.693209    0.629363      0.701757\n",
       "std      0.130366    0.195219      0.147697\n",
       "min      0.437500    0.000000      0.382353\n",
       "25%      0.594595    0.560267      0.603659\n",
       "50%      0.679699    0.666667      0.689327\n",
       "75%      0.794872    0.755856      0.827934\n",
       "max      0.942857    1.000000      0.974359"
      ]
     },
     "execution_count": 42,
     "metadata": {},
     "output_type": "execute_result"
    }
   ],
   "source": [
    "# Data frame of each model's performace\n",
    "df = pd.DataFrame({\"logic\":logic_regression_recall,\"randomforest\":RandomForestClassifier_recall,\"mlp\":MLPClassifier_recall})\n",
    "df.describe()"
   ]
  },
  {
   "cell_type": "code",
   "execution_count": 43,
   "metadata": {},
   "outputs": [
    {
     "data": {
      "text/plain": [
       "[(0.4, 1.0)]"
      ]
     },
     "execution_count": 43,
     "metadata": {},
     "output_type": "execute_result"
    },
    {
     "data": {
      "image/png": "[encoded data removed]",
      "text/plain": [
       "<matplotlib.figure.Figure at 0x1a191c4a90>"
      ]
     },
     "metadata": {},
     "output_type": "display_data"
    }
   ],
   "source": [
    "# Visulization of each model's performace\n",
    "plt.figure(figsize=(10, 8))\n",
    "sns.set(style=\"whitegrid\")\n",
    "ax = sns.boxplot(data=df)\n",
    "ax = sns.swarmplot( data=df, color=\".25\")\n",
    "ax.set(ylim=(0.4, 1.0))\n"
   ]
  },
  {
   "cell_type": "markdown",
   "metadata": {},
   "source": [
    "# SEC.05 Logistic Regression CV probability prediction model"
   ]
  },
  {
   "cell_type": "code",
   "execution_count": 38,
   "metadata": {},
   "outputs": [],
   "source": [
    "from sklearn.linear_model import LogisticRegressionCV"
   ]
  },
  {
   "cell_type": "code",
   "execution_count": 50,
   "metadata": {},
   "outputs": [
    {
     "name": "stdout",
     "output_type": "stream",
     "text": [
      "[[80 34]\n",
      " [13 24]]\n",
      "\n",
      "\n",
      "             precision    recall  f1-score   support\n",
      "\n",
      "          0       0.83      0.68      0.74       114\n",
      "          1       0.36      0.57      0.44        37\n",
      "\n",
      "avg / total       0.71      0.65      0.67       151\n",
      "\n",
      "[[0.83993719 0.16006281]\n",
      " [0.86173399 0.13826601]\n",
      " [0.884627   0.115373  ]\n",
      " [0.49113033 0.50886967]\n",
      " [0.55265441 0.44734559]\n",
      " [0.92019416 0.07980584]\n",
      " [0.75312495 0.24687505]\n",
      " [0.57639738 0.42360262]\n",
      " [0.61619025 0.38380975]\n",
      " [0.03697278 0.96302722]\n",
      " [0.62291354 0.37708646]\n",
      " [0.1997657  0.8002343 ]\n",
      " [0.56097865 0.43902135]\n",
      " [0.62238762 0.37761238]\n",
      " [0.5874353  0.4125647 ]\n",
      " [0.89660289 0.10339711]\n",
      " [0.37804644 0.62195356]\n",
      " [0.94831645 0.05168355]\n",
      " [0.93805516 0.06194484]\n",
      " [0.2919526  0.7080474 ]\n",
      " [0.89342125 0.10657875]\n",
      " [0.14694494 0.85305506]\n",
      " [0.13788181 0.86211819]\n",
      " [0.28636024 0.71363976]\n",
      " [0.13230715 0.86769285]\n",
      " [0.08149931 0.91850069]\n",
      " [0.79736366 0.20263634]\n",
      " [0.37641943 0.62358057]\n",
      " [0.66497845 0.33502155]\n",
      " [0.61682206 0.38317794]\n",
      " [0.4461335  0.5538665 ]\n",
      " [0.73016278 0.26983722]\n",
      " [0.66742004 0.33257996]\n",
      " [0.33919586 0.66080414]\n",
      " [0.27893702 0.72106298]\n",
      " [0.26077383 0.73922617]\n",
      " [0.55991818 0.44008182]\n",
      " [0.78691602 0.21308398]\n",
      " [0.68231452 0.31768548]\n",
      " [0.95390273 0.04609727]\n",
      " [0.01181521 0.98818479]\n",
      " [0.84722215 0.15277785]\n",
      " [0.37625635 0.62374365]\n",
      " [0.88223681 0.11776319]\n",
      " [0.59048465 0.40951535]\n",
      " [0.80259539 0.19740461]\n",
      " [0.4265542  0.5734458 ]\n",
      " [0.28265287 0.71734713]\n",
      " [0.86705716 0.13294284]\n",
      " [0.26075119 0.73924881]\n",
      " [0.89326921 0.10673079]\n",
      " [0.6074127  0.3925873 ]\n",
      " [0.32118885 0.67881115]\n",
      " [0.36864532 0.63135468]\n",
      " [0.13401883 0.86598117]\n",
      " [0.56810692 0.43189308]\n",
      " [0.05774345 0.94225655]\n",
      " [0.15287612 0.84712388]\n",
      " [0.80730128 0.19269872]\n",
      " [0.34169305 0.65830695]\n",
      " [0.85480753 0.14519247]\n",
      " [0.53791499 0.46208501]\n",
      " [0.811621   0.188379  ]\n",
      " [0.34750342 0.65249658]\n",
      " [0.79873945 0.20126055]\n",
      " [0.00938399 0.99061601]\n",
      " [0.73667215 0.26332785]\n",
      " [0.83780028 0.16219972]\n",
      " [0.90401405 0.09598595]\n",
      " [0.68774061 0.31225939]\n",
      " [0.68472915 0.31527085]\n",
      " [0.55137273 0.44862727]\n",
      " [0.90929955 0.09070045]\n",
      " [0.14339402 0.85660598]\n",
      " [0.15070717 0.84929283]\n",
      " [0.92078945 0.07921055]\n",
      " [0.78401857 0.21598143]\n",
      " [0.92963876 0.07036124]\n",
      " [0.128326   0.871674  ]\n",
      " [0.8017544  0.1982456 ]\n",
      " [0.87641259 0.12358741]\n",
      " [0.74292801 0.25707199]\n",
      " [0.60338534 0.39661466]\n",
      " [0.25699413 0.74300587]\n",
      " [0.55526082 0.44473918]\n",
      " [0.07597781 0.92402219]\n",
      " [0.69588395 0.30411605]\n",
      " [0.31238226 0.68761774]\n",
      " [0.66148206 0.33851794]\n",
      " [0.88758882 0.11241118]\n",
      " [0.58283797 0.41716203]\n",
      " [0.4496723  0.5503277 ]\n",
      " [0.85999654 0.14000346]\n",
      " [0.74370865 0.25629135]\n",
      " [0.52971408 0.47028592]\n",
      " [0.80870855 0.19129145]\n",
      " [0.57746259 0.42253741]\n",
      " [0.81309091 0.18690909]\n",
      " [0.84113913 0.15886087]\n",
      " [0.8478984  0.1521016 ]\n",
      " [0.78441265 0.21558735]\n",
      " [0.07331083 0.92668917]\n",
      " [0.18900874 0.81099126]\n",
      " [0.79467818 0.20532182]\n",
      " [0.92655312 0.07344688]\n",
      " [0.93503404 0.06496596]\n",
      " [0.07952172 0.92047828]\n",
      " [0.3311284  0.6688716 ]\n",
      " [0.16671626 0.83328374]\n",
      " [0.90544504 0.09455496]\n",
      " [0.41723486 0.58276514]\n",
      " [0.71709243 0.28290757]\n",
      " [0.84297754 0.15702246]\n",
      " [0.12744105 0.87255895]\n",
      " [0.26835802 0.73164198]\n",
      " [0.41347595 0.58652405]\n",
      " [0.48853086 0.51146914]\n",
      " [0.29126954 0.70873046]\n",
      " [0.26330276 0.73669724]\n",
      " [0.36796511 0.63203489]\n",
      " [0.77580991 0.22419009]\n",
      " [0.68649424 0.31350576]\n",
      " [0.66242226 0.33757774]\n",
      " [0.72618749 0.27381251]\n",
      " [0.50128799 0.49871201]\n",
      " [0.85527719 0.14472281]\n",
      " [0.10153527 0.89846473]\n",
      " [0.83033583 0.16966417]\n",
      " [0.35360827 0.64639173]\n",
      " [0.44666909 0.55333091]\n",
      " [0.8686289  0.1313711 ]\n",
      " [0.64093085 0.35906915]\n",
      " [0.33401046 0.66598954]\n",
      " [0.66908285 0.33091715]\n",
      " [0.73514652 0.26485348]\n",
      " [0.20495005 0.79504995]\n",
      " [0.66932299 0.33067701]\n",
      " [0.656882   0.343118  ]\n",
      " [0.93113849 0.06886151]\n",
      " [0.72664094 0.27335906]\n",
      " [0.84633785 0.15366215]\n",
      " [0.82908606 0.17091394]\n",
      " [0.42557247 0.57442753]\n",
      " [0.90570599 0.09429401]\n",
      " [0.06294162 0.93705838]\n",
      " [0.73206874 0.26793126]\n",
      " [0.85640955 0.14359045]\n",
      " [0.47282491 0.52717509]\n",
      " [0.43563752 0.56436248]\n",
      " [0.45384864 0.54615136]\n",
      " [0.81927347 0.18072653]]\n"
     ]
    },
    {
     "data": {
      "image/png": "[encoded data removed]",
      "text/plain": [
       "<matplotlib.figure.Figure at 0x1a18afef98>"
      ]
     },
     "metadata": {},
     "output_type": "display_data"
    }
   ],
   "source": [
    "#Logistic Regression CV\n",
    "clf = LogisticRegressionCV(cv=5, random_state=0).fit(X_train, y_train)\n",
    "y_pred33 = clf.predict(X_test)\n",
    "prob_list = clf.predict_proba(X_test)\n",
    "cm = confusion_matrix(y_test,y_pred33)\n",
    "print(cm)\n",
    "print(\"\\n\")\n",
    "print(classification_report(y_test,y_pred2))\n",
    "df_cm = pd.DataFrame(cm, range(2),range(2))\n",
    "sns.set(font_scale=1.4)\n",
    "sns.heatmap(df_cm, annot=True,fmt=\"d\")\n",
    "print(prob_list)"
   ]
  },
  {
   "cell_type": "code",
   "execution_count": null,
   "metadata": {},
   "outputs": [],
   "source": []
  }
 ],
 "metadata": {
  "kernelspec": {
   "display_name": "Python 3",
   "language": "python",
   "name": "python3"
  },
  "language_info": {
   "codemirror_mode": {
    "name": "ipython",
    "version": 3
   },
   "file_extension": ".py",
   "mimetype": "text/x-python",
   "name": "python",
   "nbconvert_exporter": "python",
   "pygments_lexer": "ipython3",
   "version": "3.6.4"
  }
 },
 "nbformat": 4,
 "nbformat_minor": 2
}
